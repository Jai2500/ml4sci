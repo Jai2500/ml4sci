{
 "cells": [
  {
   "cell_type": "markdown",
   "metadata": {},
   "source": [
    "# Graph Neural Network based Regression\n"
   ]
  },
  {
   "cell_type": "markdown",
   "metadata": {},
   "source": [
    "The goal of this notebook is to provide a few examples for model training and testing. The codebase is written as a python script with argparse, and thus can be run from the terminal shell. \n",
    "\n",
    "```\n",
    "python main.py\n",
    "```"
   ]
  },
  {
   "cell_type": "markdown",
   "metadata": {},
   "source": [
    "## Setting up the directory"
   ]
  },
  {
   "cell_type": "markdown",
   "metadata": {},
   "source": [
    "The final directory should have the following structure.\n",
    "\n",
    "```\n",
    ".\n",
    "├── ckpt/\n",
    "├── data\n",
    "│   ├── top_gun_opendata_0.parquet\n",
    "│   ├── top_gun_opendata_1.parquet\n",
    "│   ├── top_gun_opendata_2.parquet\n",
    "│   ├── top_gun_opendata_3.parquet\n",
    "│   ├── top_gun_opendata_4.parquet\n",
    "│   ├── top_gun_opendata_5.parquet\n",
    "│   └── top_gun_opendata_6.parquet\n",
    "├── dataset.py\n",
    "├── dataset_utils.py\n",
    "├── example.ipynb\n",
    "├── gps_layer.py\n",
    "├── layers.py\n",
    "├── main.py\n",
    "├── model.py\n",
    "├── README.md\n",
    "├── run_tests.py\n",
    "├── tester.py\n",
    "├── tests.py\n",
    "├── trainer.py\n",
    "├── train_utils.py\n",
    "└── transforms.py\n",
    "```\n",
    "\n",
    "The `data` directory will be populated in the next steps, the remaining structure should be correct. The `ckpt` directory will automatically be created by the python script."
   ]
  },
  {
   "cell_type": "code",
   "execution_count": null,
   "metadata": {},
   "outputs": [],
   "source": [
    "!mkdir data\n",
    "%cd data"
   ]
  },
  {
   "cell_type": "markdown",
   "metadata": {},
   "source": [
    "## Downloading/Extracting the dataset"
   ]
  },
  {
   "cell_type": "code",
   "execution_count": null,
   "metadata": {},
   "outputs": [],
   "source": [
    "!wget https://cernbox.cern.ch/index.php/s/cmVxUG4GJzRWKWV/download"
   ]
  },
  {
   "cell_type": "code",
   "execution_count": null,
   "metadata": {},
   "outputs": [],
   "source": [
    "!tar -xvf download\n",
    "!rm download"
   ]
  },
  {
   "cell_type": "code",
   "execution_count": null,
   "metadata": {},
   "outputs": [],
   "source": [
    "%cd .."
   ]
  },
  {
   "cell_type": "markdown",
   "metadata": {},
   "source": [
    "## Installing the requirements"
   ]
  },
  {
   "cell_type": "code",
   "execution_count": null,
   "metadata": {},
   "outputs": [],
   "source": [
    "!pip install -r requirements.txt"
   ]
  },
  {
   "cell_type": "markdown",
   "metadata": {},
   "source": [
    "## Running the training script"
   ]
  },
  {
   "cell_type": "markdown",
   "metadata": {},
   "source": [
    "### Login using the Wandb account"
   ]
  },
  {
   "cell_type": "code",
   "execution_count": null,
   "metadata": {},
   "outputs": [],
   "source": [
    "!wandb login"
   ]
  },
  {
   "cell_type": "markdown",
   "metadata": {},
   "source": [
    "The training is called from the `main.py`. Since, it is based on argparse the `help` will provide all the arguments of the training and a description of the argument."
   ]
  },
  {
   "cell_type": "code",
   "execution_count": null,
   "metadata": {},
   "outputs": [],
   "source": [
    "!python main.py --help"
   ]
  },
  {
   "cell_type": "markdown",
   "metadata": {},
   "source": [
    "### Training best (GraphGPS+Performer+GatedGCN) network"
   ]
  },
  {
   "cell_type": "code",
   "execution_count": null,
   "metadata": {},
   "outputs": [],
   "source": [
    "!python main.py --model gps --gps_mpnn_type gatedgcn --gps_global_type performer --scale_histogram --use_pe --num_pe_scales 10 --num_gps_layers 5 --lr 5e-4 --optim adamw --name gps+perf+gatedgcn_5_full --train_batch_size 16 --val_batch_size 16 --test_batch_size 16 --num_epochs 36 --sched_type ca_wm"
   ]
  },
  {
   "cell_type": "markdown",
   "metadata": {},
   "source": [
    "Explanation: \n",
    "- `model` specifies the model type. Here `gps` for the GraphGPS\n",
    "- `gps_mpnn_type` specifies the local GNN model type used by GraphGPS. Here `gatedgcn` for the ResGatedGCN module\n",
    "- `gps_global_type` specifies the global self attention model type used by GraphGPS. Here `perfomer` stands for the Performer Self Attention\n",
    "- `scale_histogram` is to scale all inputs and output to $(0-1]$ \n",
    "- `use_pe` is to use Positional Encoding on the inputs\n",
    "- `num_pe_scales` specifies the number of power scales to use in positional encoding\n",
    "- `num_gps_layers` specifies the number of GraphGPS layers to stack. \n",
    "- `lr` specifies the starting learning rate to be used for training\n",
    "- `optim` specifies the optimizer type\n",
    "- `name` specifies the name to be used to log on Weights and Biases. To prevent logging on Weights and Biases `--debug` can be used\n",
    "- `train/val/test_batch_size` each specify the batch size to use for train/val/test\n",
    "- `num_epochs` specifies the number of epoch to use for training\n",
    "- `sched_type` specifies the learning rate scheduler to use. Here `ca_wm` for cosine annealing with warm restarts."
   ]
  },
  {
   "cell_type": "markdown",
   "metadata": {},
   "source": [
    "The final model is saved in `ckpt` directory."
   ]
  }
 ],
 "metadata": {
  "kernelspec": {
   "display_name": "Python 3.9.12 ('ml')",
   "language": "python",
   "name": "python3"
  },
  "language_info": {
   "codemirror_mode": {
    "name": "ipython",
    "version": 3
   },
   "file_extension": ".py",
   "mimetype": "text/x-python",
   "name": "python",
   "nbconvert_exporter": "python",
   "pygments_lexer": "ipython3",
   "version": "3.9.12"
  },
  "orig_nbformat": 4,
  "vscode": {
   "interpreter": {
    "hash": "cde0616148d3544cac74c25580ad20ebe6fe984f7ef4095b34ec827fc66ade59"
   }
  }
 },
 "nbformat": 4,
 "nbformat_minor": 2
}
