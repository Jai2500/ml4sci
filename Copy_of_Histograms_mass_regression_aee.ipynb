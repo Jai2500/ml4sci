{
  "nbformat": 4,
  "nbformat_minor": 0,
  "metadata": {
    "colab": {
      "name": "Copy of Histograms mass_regression_aee.ipynb",
      "provenance": [],
      "collapsed_sections": [],
      "machine_shape": "hm"
    },
    "kernelspec": {
      "name": "python3",
      "display_name": "Python 3"
    },
    "language_info": {
      "name": "python"
    },
    "accelerator": "GPU"
  },
  "cells": [
    {
      "cell_type": "code",
      "metadata": {
        "colab": {
          "base_uri": "https://localhost:8080/"
        },
        "id": "idl3xUoT7AH6",
        "outputId": "29c7ddfc-40c8-48cf-f526-dc8cbf45ee09"
      },
      "source": [
        "from google.colab import drive\n",
        "drive.mount('/content/drive')"
      ],
      "execution_count": null,
      "outputs": [
        {
          "output_type": "stream",
          "name": "stdout",
          "text": [
            "Mounted at /content/drive\n"
          ]
        }
      ]
    },
    {
      "cell_type": "code",
      "source": [
        "#%cd drive/MyDrive/work\n",
        "%ls drive/MyDrive/Colab\n",
        "%pwd\n",
        "\n",
        "%ls drive/MyDrive/work\n",
        "#%ls\n",
        "\n",
        "#%ls train_MassRegression_noTracker \n"
      ],
      "metadata": {
        "colab": {
          "base_uri": "https://localhost:8080/"
        },
        "id": "VK9e1kJbJe57",
        "outputId": "f1a02758-75bd-480e-fcc7-8e2cddf57b06"
      },
      "execution_count": null,
      "outputs": [
        {
          "output_type": "stream",
          "name": "stdout",
          "text": [
            "\u001b[0m\u001b[01;34mLOGS\u001b[0m/  \u001b[01;34mMODELS\u001b[0m/  \u001b[01;34mPLOTS\u001b[0m/  torch_resnet_concat.py\n",
            "\u001b[0m\u001b[01;34mdrive\u001b[0m/\n",
            "\u001b[01;34mMODELS\u001b[0m/\n",
            "\u001b[01;34mPLOTS\u001b[0m/\n",
            "top_gun_opendata_PTscale0_ECALscale0_HCALscale1_AOD_m0o1.0_ResNet_blocks3_seedPos_MAEloss_epochs10_from0_ntrain1282048_nval512000_run0.log\n",
            "top_gun_opendata_PTscale0_ECALscale0_HCALscale1_AOD_m0o85.0_ResNet_blocks3_seedPos_MAEloss_epochs10_from0_ntrain1282048_nval512000_run0.log\n",
            "\u001b[01;34mtrain_MassRegression_noTracker\u001b[0m/\n"
          ]
        }
      ]
    },
    {
      "cell_type": "code",
      "metadata": {
        "colab": {
          "base_uri": "https://localhost:8080/"
        },
        "id": "1iV6GOGxkzBg",
        "outputId": "61a390f1-53c2-4934-ca47-426e7f054481"
      },
      "source": [
        "# memory footprint support libraries/code\n",
        "!ln -sf /opt/bin/nvidia-smi /usr/bin/nvidia-smi\n",
        "!pip install gputil\n",
        "!pip install psutil\n",
        "!pip install humanize\n",
        "\n",
        "import psutil\n",
        "import humanize\n",
        "import os\n",
        "import GPUtil as GPU\n",
        "GPUs = GPU.getGPUs()\n",
        "\n",
        "# XXX: only one GPU on Colab and isn’t guaranteed\n",
        "gpu = GPUs[0]\n",
        "def printm():\n",
        "  process = psutil.Process(os.getpid())\n",
        "  print(\"Gen RAM Free: \" + humanize.naturalsize( psutil.virtual_memory().available ), \" | Proc size: \" + humanize.naturalsize( process.memory_info().rss))\n",
        "  print(\"GPU RAM Free: {0:.0f}MB | Used: {1:.0f}MB | Util {2:3.0f}% | Total {3:.0f}MB\".format(gpu.memoryFree, gpu.memoryUsed, gpu.memoryUtil*100, gpu.memoryTotal))\n",
        "\n",
        "printm()"
      ],
      "execution_count": null,
      "outputs": [
        {
          "output_type": "stream",
          "name": "stdout",
          "text": [
            "Collecting gputil\n",
            "  Downloading GPUtil-1.4.0.tar.gz (5.5 kB)\n",
            "Building wheels for collected packages: gputil\n",
            "  Building wheel for gputil (setup.py) ... \u001b[?25l\u001b[?25hdone\n",
            "  Created wheel for gputil: filename=GPUtil-1.4.0-py3-none-any.whl size=7411 sha256=24f70065d4d505fe4d76e8a55457669055a3991a90280d0fffb025732e280f66\n",
            "  Stored in directory: /root/.cache/pip/wheels/6e/f8/83/534c52482d6da64622ddbf72cd93c35d2ef2881b78fd08ff0c\n",
            "Successfully built gputil\n",
            "Installing collected packages: gputil\n",
            "Successfully installed gputil-1.4.0\n",
            "Requirement already satisfied: psutil in /usr/local/lib/python3.7/dist-packages (5.4.8)\n",
            "Requirement already satisfied: humanize in /usr/local/lib/python3.7/dist-packages (0.5.1)\n",
            "Gen RAM Free: 12.3 GB  | Proc size: 120.2 MB\n",
            "GPU RAM Free: 15109MB | Used: 0MB | Util   0% | Total 15109MB\n"
          ]
        }
      ]
    },
    {
      "cell_type": "code",
      "metadata": {
        "colab": {
          "base_uri": "https://localhost:8080/"
        },
        "id": "sfQQ2uCoiS0-",
        "outputId": "c9b93c86-2049-439a-b1d9-9af50473ea59"
      },
      "source": [
        "import numpy as np\n",
        "run = 0\n",
        "np.random.seed(run)\n",
        "import os, glob\n",
        "import time\n",
        "import pyarrow as pa\n",
        "import pyarrow.parquet as pq\n",
        "import torch\n",
        "import torch.nn.functional as F\n",
        "import torch.optim as optim\n",
        "import matplotlib.pyplot as plt\n",
        "plt.switch_backend('agg')\n",
        "#from skimage.transform import rescale\n",
        "plt.rcParams[\"figure.figsize\"] = (5,5)\n",
        "from torch.utils.data import *\n",
        "import pandas as pd\n",
        "\n",
        "lr_init   = 1.e-3\n",
        "resblocks = 3\n",
        "epochs    = 10\n",
        "load_epoch = 0\n",
        "#os.environ[\"CUDA_VISIBLE_DEVICES\"]=str(0)\n",
        "\n",
        "run_logger = True \n",
        "#hcal_scale  = 0.2\n",
        "#ecal_scale  = 0.01\n",
        "#pt_scale    = 0.005\n",
        "hcal_scale  = 1\n",
        "ecal_scale  = 0.1\n",
        "pt_scale    = 0.01\n",
        "dz_scale    = 0.05\n",
        "d0_scale    = 0.1\n",
        "m0_scale    = 85\n",
        "m1_scale    = 415\n",
        "p0_scale = 400\n",
        "p1_scale = 600\n",
        "mass_bins = np.arange(3600,12000+700,700)/1000. # for histogram in eval()\n",
        "BATCH_SIZE = 1024\n",
        "#BATCH_SIZE = 64*16\n",
        "n_all = BATCH_SIZE*1752 #ma>2.5 (factor 0.1)\n",
        "n_val = BATCH_SIZE*500  #ma>2.5 (factor 0.1)\n",
        "n_train = n_all - n_val\n",
        "\n",
        "decay = 'top_gun_opendata'\n",
        "\n",
        "expt_name = 'PTscale%.f_ECALscale%.f_HCALscale%.f_AOD_m0o%.1f_ResNet_blocks%d_seedPos_MAEloss_epochs%d_from%d_ntrain%d_nval%d_run%d'%(pt_scale, ecal_scale, hcal_scale, m0_scale, resblocks, epochs, load_epoch, n_train, n_val, run)\n",
        "#expt_name = 'PTscale%.f_ECALscale%.f_HCALscale%.f_AOD_m0o%.1f_ResNet_blocks%d_seedPos_HUBERloss_epochs%d_from%d_ntrain%d_nval%d_run%d'%(pt_scale, ecal_scale, hcal_scale, m0_scale, resblocks, epochs, load_epoch, n_train, n_val, run)\n",
        "\n",
        "expt_name = '%s_%s'%(decay, expt_name)\n",
        "if run_logger:\n",
        "    if not os.path.isdir('drive/MyDrive/work'):\n",
        "        os.makedirs('drive/MyDrive/work')\n",
        "    f = open('drive/MyDrive/work/%s.log'%(expt_name), 'w')\n",
        "    #for d in ['MODELS', 'METRICS','PLOTS']:\n",
        "    for d in ['MODELS', 'PLOTS']:\n",
        "        if not os.path.isdir('drive/MyDrive/work/%s/%s'%(d, expt_name)):\n",
        "            os.makedirs('drive/MyDrive/work/%s/%s'%(d, expt_name))\n",
        "\n",
        "def logger(s):\n",
        "    global f, run_logger\n",
        "    print(s)\n",
        "    if run_logger:\n",
        "        f.write('%s\\n'%str(s))\n",
        "\n",
        "# L1 loss\n",
        "def mae_loss_wgtd(pred, true, wgt=1.):\n",
        "    loss = wgt*(pred-true).abs().cuda()\n",
        "    return loss.mean()\n",
        "\n",
        "# huber loss\n",
        "def huber(pred, true, delta):\n",
        "    loss = np.where(np.abs(true-pred) < delta , 0.5*((true-pred)**2), delta*np.abs(true - pred) - 0.5*(delta**2))\n",
        "    return np.sum(loss)\n",
        "\n",
        "# log cosh loss\n",
        "def logcosh(pred, true):\n",
        "    #loss = torch.mean( torch.log( torch.cosh(y - y_hat) )) \n",
        "    loss = torch.log(torch.cosh(pred - true)).cuda()\n",
        "    return loss.mean()\n",
        "\n",
        "def transform_y(y):\n",
        "    return (y-m0_scale)/m1_scale\n",
        "\n",
        "def transform_x(x):\n",
        "    return (x-p0_scale)/p1_scale    \n",
        "\n",
        "\n",
        "# y = (m-85)/415 so that y is mass from 0 to 1 \n",
        "\n",
        "def inv_transform(y):\n",
        "    return y*m0_scale\n",
        "\n",
        "logger('>> Experiment: %s'%(expt_name))"
      ],
      "execution_count": null,
      "outputs": [
        {
          "output_type": "stream",
          "name": "stdout",
          "text": [
            ">> Experiment: top_gun_opendata_PTscale0_ECALscale0_HCALscale1_AOD_m0o85.0_ResNet_blocks3_seedPos_MAEloss_epochs10_from0_ntrain1282048_nval512000_run0\n"
          ]
        }
      ]
    },
    {
      "cell_type": "code",
      "metadata": {
        "id": "h-aywLyqo-vK"
      },
      "source": [
        "#!cp -r drive/MyDrive/Colab/train_MassRegression_noTracker .\n",
        "\n",
        "#!cp -r drive/MyDrive/Colab/val_HToTauTau_m3p6To14_pT30To120_ctau0To3_eta0To1p4_noPix ."
      ],
      "execution_count": null,
      "outputs": []
    },
    {
      "cell_type": "code",
      "metadata": {
        "colab": {
          "base_uri": "https://localhost:8080/"
        },
        "id": "1B9U0FfXpuck",
        "outputId": "29375336-4403-4d8c-8867-77e5f396df04"
      },
      "source": [
        "ls"
      ],
      "execution_count": null,
      "outputs": [
        {
          "output_type": "stream",
          "name": "stdout",
          "text": [
            "\u001b[0m\u001b[01;34mdrive\u001b[0m/  \u001b[01;34msample_data\u001b[0m/\n"
          ]
        }
      ]
    },
    {
      "cell_type": "code",
      "metadata": {
        "id": "-gc_4lg8oiu4"
      },
      "source": [
        "class ParquetDataset(Dataset):\n",
        "    def __init__(self, filename):\n",
        "        self.parquet = pq.ParquetFile(filename)\n",
        "        #self.cols = None # read all columns\n",
        "        #self.cols = ['X_jet.list.item.list.item.list.item','am','apt','iphi','ieta'] \n",
        "        self.cols = ['X_jet.list.item.list.item.list.item','m','iphi','ieta','pt']   \n",
        "        #self.label = label\n",
        "    def __getitem__(self, index):\n",
        "        data = self.parquet.read_row_group(index, columns=self.cols).to_pydict()\n",
        "        data['X_jet'] = np.float32(data['X_jet'][0])\n",
        "        data['X_jet'][0] = pt_scale   * data['X_jet'][0] #Track pT\n",
        "        data['X_jet'][1] = dz_scale   * data['X_jet'][1] #Track dZ\n",
        "        data['X_jet'][2] = d0_scale   * data['X_jet'][2] #Track d0\n",
        "        data['X_jet'][3] = ecal_scale * data['X_jet'][3] #ECAL\n",
        "        data['X_jet'][4] = hcal_scale * data['X_jet'][4] #HCAL \n",
        "        data['pt0'] = np.float32(data['pt']) #pt from min to max\n",
        "        data['pt'] = transform_x(np.float32(data['pt'])) #pt from 0 to 1 \n",
        "        data['m0'] = np.float32(data['m'])     #mass from 85 to 500\n",
        "        data['m']       = transform_y(np.float32(data['m'])) #mass from 0 to 1 \n",
        "        data['iphi']     = np.float32(data['iphi'])/360.\n",
        "        data['ieta']     = np.float32(data['ieta'])/140.\n",
        "        #data['label']    = self.label\n",
        "        # Preprocessing\n",
        "        #data_dict['X_jet'] = data_dict['X_jet'][:, 20:105, 20:105]\n",
        "        # High Value Suppressuib\n",
        "        data['X_jet'][1][data['X_jet'][1] < -1] = 0  #(20 cm)\n",
        "        data['X_jet'][1][data['X_jet'][1] >  1] = 0  #(20 cm)\n",
        "        data['X_jet'][2][data['X_jet'][2] < -1] = 0  #(10 cm)\n",
        "        data['X_jet'][2][data['X_jet'][2] >  1] = 0  #(10 cm)\n",
        "        # Zero-Suppression\n",
        "        data['X_jet'][0][data['X_jet'][0] < 1.e-2] = 0. #(1 GeV)\n",
        "        data['X_jet'][3][data['X_jet'][3] < 1.e-2] = 0. #(0.1 GeV)\n",
        "        data['X_jet'][4][data['X_jet'][4] < 1.e-2] = 0. #(0.01 GeV)\n",
        "        return dict(data)\n",
        "    def __len__(self):\n",
        "        return self.parquet.num_row_groups\n",
        "\n"
      ],
      "execution_count": null,
      "outputs": []
    },
    {
      "cell_type": "code",
      "source": [
        "\n",
        "#decays_train = glob.glob('drive/MyDrive/Colab/train_HToTauTau_m2p5To14_pT30To120_ctau0To3_eta0To1p4_noPix/*.parquet*')\n",
        "decays_train = glob.glob('drive/MyDrive/work/train_MassRegression_noTracker/*.parquet*')\n",
        "dset_train   = ConcatDataset([ParquetDataset('%s'%d) for i,d in enumerate(decays_train)])\n",
        "\n",
        "#decays_val = glob.glob('drive/MyDrive/Colab/val_HToTauTau_m3p6To14_pT30To120_ctau0To3_eta0To1p4_noPix/*.parquet*')\n",
        "#decays_val = glob.glob('val_HToTauTau_m3p6To14_pT30To120_ctau0To3_eta0To1p4_noPix/*.parquet*')\n",
        "#dset_val   = ConcatDataset([ParquetDataset('%s'%d, i) for i,d in enumerate(decays_val)])"
      ],
      "metadata": {
        "id": "v7voLpF82kiy"
      },
      "execution_count": null,
      "outputs": []
    },
    {
      "cell_type": "code",
      "metadata": {
        "colab": {
          "base_uri": "https://localhost:8080/"
        },
        "id": "_r3N2c8wZVQE",
        "outputId": "6bf7da01-e71a-41e2-b952-cd238b5bac38"
      },
      "source": [
        "#idxs = np.random.permutation(len(dset_train))\n",
        "#logger('>> N samples: %d'%(len(idxs)))\n",
        "idxs_train = np.random.permutation(len(dset_train))\n",
        "#idxs_val   = np.random.permutation(len(dset_val))\n",
        "#idxs_train = idxs[:n_train]\n",
        "#idxs_val = idxs[n_train:n_train+n_val]\n",
        "logger('>> N samples: Train: %d'%(len(idxs_train)))\n",
        "#np.savez('drive/MyDrive/Colab/MODELS/%s/idxs_train+val.npz'%(expt_name), idxs_train=idxs_train, idxs_val=idxs_val)\n",
        "#assert len(idxs_train)+len(idxs_val) <= len(idxs), '%d vs. %d'%(len(idxs_train)+len(idxs_val), len(idxs))\n",
        "# Train dataset\n",
        "train_sampler = SubsetRandomSampler(idxs_train)\n",
        "train_loader  = DataLoader(dataset=dset_train, batch_size=BATCH_SIZE, num_workers=4, pin_memory=True, sampler=train_sampler)\n",
        "# Val dataset\n",
        "#val_sampler = SubsetRandomSampler(idxs_val)\n",
        "#val_loader  = DataLoader(dataset=dset_train, batch_size=BATCH_SIZE, num_workers=10, pin_memory=True, sampler=val_sampler)\n",
        "#val_loader    = DataLoader(dataset=dset_val, batch_size=BATCH_SIZE, num_workers=4, pin_memory=True)\n",
        "\n",
        "# Test sets\n",
        "#sg_files = glob.glob('IMG/HToTauTau_m3p6To4_pT30To120_ctau0To3_eta0To1p4_unbiased_test/HToTauTau_m3p6To4_pT30To120_ctau0To3_eta0To1p4_unbiased_1*.parquet')\n",
        "#dset_sg = ConcatDataset([ParquetDataset('%s'%d, i) for i,d in enumerate(sg_files)])\n",
        "#sg_loader = DataLoader(dataset=dset_sg, batch_size=BATCH_SIZE, num_workers=10)\n",
        "#logger('>> N test samples: sg: %d'%(len(dset_sg)))\n",
        "\n",
        "#bg_files = glob.glob('IMG/HToTauTau_m3p6To15_pT20To200_ctau0To3_eta0To1p4_noPix_noHCAL/*.parquet.*')\n",
        "#dset_bg = ConcatDataset([ParquetDataset('%s'%d, i) for i,d in enumerate(bg_files)])\n",
        "#bg_loader = DataLoader(dataset=dset_bg, batch_size=BATCH_SIZE, num_workers=10)\n",
        "#logger('>> N test samples: bg: %d'%(len(dset_bg)))\n",
        "\n",
        "#drive/MyDrive/Colab\n",
        "\n",
        "%cp drive/MyDrive/Colab/torch_resnet_concat.py .\n",
        "%ls \n",
        "import torch_resnet_concat as networks\n",
        "resnet = networks.ResNet(5, resblocks, [16, 32])\n",
        "resnet.cuda()\n",
        "optimizer = optim.Adam(resnet.parameters(), lr=lr_init)\n",
        "#lr_scheduler = optim.lr_scheduler.MultiStepLR(optimizer, milestones=[10,20], gamma=0.5)\n",
        "lr_scheduler = optim.lr_scheduler.ReduceLROnPlateau(optimizer, mode='min', factor=0.5, patience=2)"
      ],
      "execution_count": null,
      "outputs": [
        {
          "output_type": "stream",
          "name": "stdout",
          "text": [
            ">> N samples: Train: 149913\n"
          ]
        },
        {
          "output_type": "stream",
          "name": "stderr",
          "text": [
            "/usr/local/lib/python3.7/dist-packages/torch/utils/data/dataloader.py:481: UserWarning: This DataLoader will create 4 worker processes in total. Our suggested max number of worker in current system is 2, which is smaller than what this DataLoader is going to create. Please be aware that excessive worker creation might get DataLoader running slow or even freeze, lower the worker number to avoid potential slowness/freeze if necessary.\n",
            "  cpuset_checked))\n"
          ]
        },
        {
          "output_type": "stream",
          "name": "stdout",
          "text": [
            "\u001b[0m\u001b[01;34mdrive\u001b[0m/  \u001b[01;34msample_data\u001b[0m/  torch_resnet_concat.py\n"
          ]
        }
      ]
    },
    {
      "cell_type": "code",
      "metadata": {
        "id": "WxH50mtXgsyO"
      },
      "source": [
        "## not now \n",
        "\n",
        "\n",
        "def do_eval(resnet, val_loader, mae_best, epoch, sample):  \n",
        "    global expt_name\n",
        "    loss_ = 0.\n",
        "    #m_pred_, m_true_, mae_, pt_, wgts_ = [], [], [], [], []\n",
        "    #m_pred_, m_true_, mae_, pt_, = [], [], [], []\n",
        "    m_pred_, m_true_, mae_, mre_ = [], [], [], []\n",
        "    iphi_, ieta_ = [], []\n",
        "    #label_ = []\n",
        "    now = time.time()\n",
        "    ma_low = transform_y(3.6) # convert from GeV to network units\n",
        "    for i, data in enumerate(val_loader):\n",
        "        #X, m0, pt, wgts = data['Xtz_aod'].cuda(), data['m'].cuda(), data['pt'], data['w']\n",
        "        #X, m0, pt = data['X_jet'].cuda(), data['am'].cuda(), data['apt']\n",
        "        X, m0 = data['X_jet'].cuda(), data['am'].cuda()\n",
        "        iphi, ieta = data['iphi'].cuda(), data['ieta'].cuda()\n",
        "        #label = data['label'].cuda()\n",
        "        #print('label ', label)\n",
        "        #IP and mass selection\n",
        "        #X     = X[m0[:,0]>ma_low]\n",
        "        #iphi  = iphi[m0[:,0]>ma_low]\n",
        "        #ieta  = ieta[m0[:,0]>ma_low]\n",
        "        #label = label[m0[:,0]>ma_low]\n",
        "        #m0    = m0[m0[:,0]>ma_low]\n",
        "        #pt   = pt[m0[:,0]>ma_low]\n",
        "        #logits = resnet(X)\n",
        "        logits = resnet([X, iphi, ieta])\n",
        "        loss_ += mae_loss_wgtd(logits, m0).item()\n",
        "        #loss_ += logcosh(logits, m0).item()\n",
        "        #criterion = torch.nn.SmoothL1Loss()\n",
        "        #loss_  += criterion(logits, m0)\n",
        "        # Undo preproc on mass\n",
        "        logits, m0 = inv_transform(logits), inv_transform(m0)\n",
        "        mre = ((logits-m0).abs()/m0)\n",
        "        mae =  (logits-m0).abs()\n",
        "        # Store batch metrics:\n",
        "        m_pred_.append(logits.tolist())\n",
        "        m_true_.append(m0.tolist())\n",
        "        mae_.append(mae.tolist())\n",
        "        mre_.append(mre.tolist())\n",
        "        iphi_.append(iphi.tolist())\n",
        "        ieta_.append(ieta.tolist())\n",
        "        #label_.append(label.tolist())\n",
        "        #pt_.append(pt.tolist())\n",
        "        #wgts_.append(wgts.tolist())\n",
        "        if i % print_step == 0:\n",
        "            logger('Step : %d'%(print_step))\n",
        "            \n",
        "    now = time.time() - now\n",
        "    #label_  = np.concatenate(label_)\n",
        "    m_true_ = np.concatenate(m_true_)\n",
        "    m_pred_ = np.concatenate(m_pred_)\n",
        "    mae_    = np.concatenate(mae_)\n",
        "    mre_    = np.concatenate(mre_)\n",
        "    iphi_   = np.concatenate(iphi_)\n",
        "    ieta_   = np.concatenate(ieta_)\n",
        "    #pt_ = np.concatenate(pt_)[label_==tgt_label]\n",
        "    #wgts_ = np.concatenate(wgts_)[label_==tgt_label]\n",
        "\n",
        "    logger('%d: Val m_pred: %s...'%(epoch, str(np.squeeze(m_pred_[:5]))))\n",
        "    logger('%d: Val m_true: %s...'%(epoch, str(np.squeeze(m_true_[:5]))))\n",
        "    logger('%d: Val time:%.2fs in %d steps for N=%d'%(epoch, now, len(val_loader), len(m_true_)))\n",
        "    logger('%d: Val loss:%f, mae:%f, mre:%f'%(epoch, loss_/len(val_loader), np.mean(mae_), mp.mean(mre_)))\n",
        "\n",
        "    score_str = 'epoch%d_%s_mae%.4f'%(epoch, sample, np.mean(mae_))\n",
        "\n",
        "    if epoch == 1 or epoch == 5 or epoch == 10 or epoch == 20:\n",
        "\n",
        "        if 'pseudoscalar' in sample:\n",
        "\n",
        "            # Check 2D m_true v m_pred\n",
        "            logger('%d: Val m_true vs. m_pred, [3600,12000,700] MeV:'%(epoch))\n",
        "            sct = np.histogram2d(np.squeeze(m_true_), np.squeeze(m_pred_), bins=mass_bins)[0]\n",
        "            logger(np.uint(np.fliplr(sct).T))\n",
        "            # Extended version\n",
        "            plt.plot(m_true_, m_pred_, \".\", color='black', alpha=0.1, label='MAE = %.3f GeV'%np.mean(mae_))\n",
        "            plt.xlabel(r'$\\mathrm{m_{label}}$', size=16)\n",
        "            plt.ylabel(r'$\\mathrm{m_{pred}}$', size=16)\n",
        "            plt.plot((3.6, 14), (12, 12), color='r', linestyle='--', alpha=0.5)\n",
        "            plt.plot((12, 12), (2.5, 14), color='r', linestyle='--', alpha=0.5)\n",
        "            plt.plot((3.6, 14), (3.6, 3.6), color='r', linestyle='--', alpha=0.5)\n",
        "            plt.plot((3.6, 14), (3.6, 14), color='r', linestyle='--', alpha=0.5)\n",
        "            plt.xlim(3.6, 14)\n",
        "            plt.ylim(2.5, 12)\n",
        "            plt.legend(loc='upper left')\n",
        "            plt.savefig('drive/MyDrive/Colab/PLOTS/%s/mtruevpred_%s.png'%(expt_name, score_str), bbox_inches='tight')\n",
        "            plt.close()\n",
        "            # Truncated version\n",
        "            plt.plot(m_true_, m_pred_, \".\", color='black', alpha=0.125, label='MAE = %.3f GeV'%np.mean(mae_))\n",
        "            plt.xlabel(r'$\\mathrm{m_{label}}$', size=16)\n",
        "            plt.ylabel(r'$\\mathrm{m_{pred}}$', size=16)\n",
        "            plt.plot((3.6, 12), (3.6, 12), color='r', linestyle='--', alpha=0.5)\n",
        "            plt.xlim(3.6, 12)\n",
        "            plt.ylim(3.6, 12)\n",
        "            plt.legend(loc='upper left')\n",
        "            plt.savefig('drive/MyDrive/Colab/PLOTS/%s/mtruevpred_%s_trunc.png'%(expt_name, score_str), bbox_inches='tight')\n",
        "            plt.close()\n",
        "\n",
        "        # Check 1D m_pred\n",
        "        hst = np.histogram(np.squeeze(m_pred_), bins=mass_bins)[0]\n",
        "        logger('%d: Val m_pred, [3600,12000,700] MeV: %s'%(epoch, str(np.uint(hst))))\n",
        "        mlow = hst[0]\n",
        "        mrms = np.std(hst)\n",
        "        logger('%d: Val m_pred, [3600,12000,700] MeV: low:%d, rms: %f'%(epoch, mlow, mrms))\n",
        "        norm = 1.*len(m_pred_)/len(m0)\n",
        "        plt.hist(m_true_, range=(2.5,14), bins=20, histtype='step', label=r'$\\mathrm{m_{true}}$', linestyle='--', color='grey', alpha=0.6)\n",
        "        plt.hist(m_pred_, range=(2.5,14), bins=20, histtype='step', label=r'$\\mathrm{m_{pred}}$', linestyle='--', color='C0', alpha=0.6)\n",
        "        #plt.hist((m_true_ if 'pseudoscalar' in sample else np.zeros_like(m_true_)),\\\n",
        "        #        #range=(3.6,15), bins=20, histtype='step', label=r'$\\mathrm{m_{true,w}}$', color='grey', weights=wgts_*norm)\n",
        "        #        range=(3.6,17), bins=20, histtype='step', label=r'$\\mathrm{m_{true,w}}$', color='grey', weights=norm)\n",
        "        #plt.hist(m_pred_, range=(-1,17), bins=20, histtype='step', label=r'$\\mathrm{m_{pred,w}}$', color='C0', weights=wgts_*norm)\n",
        "        #plt.hist(m_pred_, range=(3.6,17), bins=20, histtype='step', label=r'$\\mathrm{m_{pred,w}}$', color='C0', weights=norm)\n",
        "        plt.xlim(2.5,14)\n",
        "        plt.xlabel(r'$\\mathrm{m}$', size=16)\n",
        "        if 'pseudoscalar' in sample:\n",
        "            plt.legend(loc='lower center')\n",
        "        else:\n",
        "            plt.legend(loc='upper right')\n",
        "        plt.show()\n",
        "        plt.savefig('PLOTS/%s/mpred_%s.png'%(expt_name, score_str), bbox_inches='tight')\n",
        "        plt.close()\n",
        "\n",
        "    if run_logger:\n",
        "        if 'pseudoscalar' in sample and 'val' in sample:\n",
        "            epoch_str = 'epoch%d_%s'%(epoch, sample)\n",
        "            filename  = 'drive/MyDrive/Colab/MODELS/%s/model_%s.pkl'%(expt_name, score_str.replace('_val_pseudoscalar',''))\n",
        "            loss_value = loss_/len(val_loader)\n",
        "            model_dict = {'model_state_dict': resnet.state_dict(), 'optimizer_state_dict': optimizer.state_dict(), 'epoch' : epoch, 'loss': loss_value}\n",
        "            torch.save(model_dict, filename)\n",
        "\n",
        "    return np.mean(mae_)"
      ],
      "execution_count": null,
      "outputs": []
    },
    {
      "cell_type": "code",
      "metadata": {
        "id": "LLJ2gZlmbi0H"
      },
      "source": [
        "def plot_grad_flow(named_parameters):\n",
        "    '''Plots the gradients flowing through different layers in the net during training.\n",
        "    Can be used for checking for possible gradient vanishing / exploding problems.\n",
        "    \n",
        "    Usage: Plug this function in Trainer class after loss.backwards() as \n",
        "    \"plot_grad_flow(self.model.named_parameters())\" to visualize the gradient flow'''\n",
        "    ave_grads = []\n",
        "    max_grads= []\n",
        "    layers = []\n",
        "    for n, p in named_parameters:\n",
        "        if(p.requires_grad) and (\"bias\" not in n):\n",
        "            layers.append(n)\n",
        "            ave_grads.append(p.grad.abs().mean())\n",
        "            max_grads.append(p.grad.abs().max())\n",
        "    plt.bar(np.arange(len(max_grads)), max_grads, alpha=0.1, lw=1, color=\"c\")\n",
        "    plt.bar(np.arange(len(max_grads)), ave_grads, alpha=0.1, lw=1, color=\"b\")\n",
        "    plt.hlines(0, 0, len(ave_grads)+1, lw=2, color=\"k\" )\n",
        "    plt.xticks(range(0,len(ave_grads), 1), layers, rotation=\"vertical\")\n",
        "    plt.xlim(left=0, right=len(ave_grads))\n",
        "    plt.ylim(bottom = -0.001, top=0.02) # zoom in on the lower gradient regions\n",
        "    plt.xlabel(\"Layers\")\n",
        "    plt.ylabel(\"average gradient\")\n",
        "    plt.title(\"Gradient flow\")\n",
        "    plt.grid(True)\n",
        "    plt.legend([Line2D([0], [0], color=\"c\", lw=4),\n",
        "                Line2D([0], [0], color=\"b\", lw=4),\n",
        "                Line2D([0], [0], color=\"k\", lw=4)], ['max-gradient', 'mean-gradient', 'zero-gradient'])"
      ],
      "execution_count": null,
      "outputs": []
    },
    {
      "cell_type": "code",
      "metadata": {
        "colab": {
          "base_uri": "https://localhost:8080/"
        },
        "id": "ik7liajLbsMv",
        "outputId": "65d47be9-a6f9-4d9c-eb3e-08455f1a149b"
      },
      "source": [
        "batch=next(iter(train_loader))\n",
        "print(\"Image size = \", batch[\"X_jet\"].size())"
      ],
      "execution_count": null,
      "outputs": [
        {
          "output_type": "stream",
          "name": "stderr",
          "text": [
            "/usr/local/lib/python3.7/dist-packages/torch/utils/data/dataloader.py:481: UserWarning: This DataLoader will create 4 worker processes in total. Our suggested max number of worker in current system is 2, which is smaller than what this DataLoader is going to create. Please be aware that excessive worker creation might get DataLoader running slow or even freeze, lower the worker number to avoid potential slowness/freeze if necessary.\n",
            "  cpuset_checked))\n"
          ]
        },
        {
          "output_type": "stream",
          "name": "stdout",
          "text": [
            "Image size =  torch.Size([1024, 8, 125, 125])\n"
          ]
        }
      ]
    },
    {
      "cell_type": "code",
      "source": [
        "print(\"mass size = \",batch[\"m\"].size())\n",
        "print(batch[\"pt0\"].size())"
      ],
      "metadata": {
        "colab": {
          "base_uri": "https://localhost:8080/"
        },
        "id": "p_12BJ2wejkE",
        "outputId": "22eb0752-7bea-4b8d-e126-8537ad06b501"
      },
      "execution_count": null,
      "outputs": [
        {
          "output_type": "stream",
          "name": "stdout",
          "text": [
            "mass size =  torch.Size([1024, 1])\n",
            "torch.Size([1024, 1])\n"
          ]
        }
      ]
    },
    {
      "cell_type": "code",
      "source": [
        "%matplotlib inline\n",
        "import matplotlib.pyplot as plt\n",
        "import pandas as pd"
      ],
      "metadata": {
        "id": "wfCyX8qZeXKW"
      },
      "execution_count": null,
      "outputs": []
    },
    {
      "cell_type": "markdown",
      "source": [
        "## Mass "
      ],
      "metadata": {
        "id": "SMIo68Kt5VU5"
      }
    },
    {
      "cell_type": "code",
      "source": [
        "channel_6=pd.Series(batch[\"m0\"].flatten())\n",
        "channel_6.describe()"
      ],
      "metadata": {
        "colab": {
          "base_uri": "https://localhost:8080/"
        },
        "id": "ojTT3DWgSCN0",
        "outputId": "5ef37ccd-d947-49b6-e8fd-69b71de8f967"
      },
      "execution_count": null,
      "outputs": [
        {
          "output_type": "execute_result",
          "data": {
            "text/plain": [
              "count    1024.000000\n",
              "mean      292.127808\n",
              "std       123.197037\n",
              "min        85.815590\n",
              "25%       179.636326\n",
              "50%       292.095215\n",
              "75%       403.530891\n",
              "max       499.905823\n",
              "dtype: float64"
            ]
          },
          "metadata": {},
          "execution_count": 15
        }
      ]
    },
    {
      "cell_type": "code",
      "source": [
        "channel_6.hist(bins=100)"
      ],
      "metadata": {
        "colab": {
          "base_uri": "https://localhost:8080/",
          "height": 282
        },
        "id": "v3I4BxEBSITA",
        "outputId": "7bd42d78-d71d-46ec-95b8-a97cae50b5e4"
      },
      "execution_count": null,
      "outputs": [
        {
          "output_type": "execute_result",
          "data": {
            "text/plain": [
              "<matplotlib.axes._subplots.AxesSubplot at 0x7fb680332790>"
            ]
          },
          "metadata": {},
          "execution_count": 43
        },
        {
          "output_type": "display_data",
          "data": {
            "image/png": "[encoded data removed]",
            "text/plain": [
              "<Figure size 432x288 with 1 Axes>"
            ]
          },
          "metadata": {
            "needs_background": "light"
          }
        }
      ]
    },
    {
      "cell_type": "code",
      "source": [
        "channel_5=pd.Series(batch[\"m\"].flatten())\n",
        "channel_5.describe()\n",
        "\n",
        "## pandas flatten ->Return a copy of the array collapsed into one dimension."
      ],
      "metadata": {
        "colab": {
          "base_uri": "https://localhost:8080/"
        },
        "id": "FPEOCwwD5ahS",
        "outputId": "0151e7e9-0a19-492f-aac7-ef1862ca6204"
      },
      "execution_count": null,
      "outputs": [
        {
          "output_type": "execute_result",
          "data": {
            "text/plain": [
              "count    1024.000000\n",
              "mean        0.499104\n",
              "std         0.296860\n",
              "min         0.001965\n",
              "25%         0.228039\n",
              "50%         0.499025\n",
              "75%         0.767544\n",
              "max         0.999773\n",
              "dtype: float64"
            ]
          },
          "metadata": {},
          "execution_count": 63
        }
      ]
    },
    {
      "cell_type": "code",
      "source": [
        "#channel_5.hist()\n",
        "channel_5.hist(bins=100)\n",
        "\n",
        "#mass ranges from 85 to 500 \n",
        "\n",
        "# y = (m-85)/415 so that y is mass from 0 to 1 "
      ],
      "metadata": {
        "colab": {
          "base_uri": "https://localhost:8080/",
          "height": 282
        },
        "id": "NCnKLP5egN5x",
        "outputId": "0f001680-a573-4ab6-b9ca-1d33f55d448e"
      },
      "execution_count": null,
      "outputs": [
        {
          "output_type": "execute_result",
          "data": {
            "text/plain": [
              "<matplotlib.axes._subplots.AxesSubplot at 0x7fb67e9b4ad0>"
            ]
          },
          "metadata": {},
          "execution_count": 65
        },
        {
          "output_type": "display_data",
          "data": {
            "image/png": "[encoded data removed]",
            "text/plain": [
              "<Figure size 432x288 with 1 Axes>"
            ]
          },
          "metadata": {
            "needs_background": "light"
          }
        }
      ]
    },
    {
      "cell_type": "code",
      "source": [
        ""
      ],
      "metadata": {
        "id": "J9eAZiLM_Moq"
      },
      "execution_count": null,
      "outputs": []
    },
    {
      "cell_type": "markdown",
      "source": [
        "# pT"
      ],
      "metadata": {
        "id": "lqP3MS_0T2B2"
      }
    },
    {
      "cell_type": "code",
      "source": [
        "channel_7=pd.Series(batch[\"pt0\"].flatten())\n",
        "channel_7.describe()"
      ],
      "metadata": {
        "colab": {
          "base_uri": "https://localhost:8080/"
        },
        "id": "N3ZFq2TyiZtH",
        "outputId": "e2cfd3da-b092-4e58-e3e2-b8c8921d3c2c"
      },
      "execution_count": null,
      "outputs": [
        {
          "output_type": "execute_result",
          "data": {
            "text/plain": [
              "count    1024.000000\n",
              "mean      709.564209\n",
              "std       168.492569\n",
              "min       403.140411\n",
              "25%       569.165176\n",
              "50%       722.486420\n",
              "75%       852.052139\n",
              "max       999.155212\n",
              "dtype: float64"
            ]
          },
          "metadata": {},
          "execution_count": 19
        }
      ]
    },
    {
      "cell_type": "code",
      "source": [
        "channel_7.hist(bins=100)"
      ],
      "metadata": {
        "colab": {
          "base_uri": "https://localhost:8080/",
          "height": 282
        },
        "id": "hY4g6p_7rA6c",
        "outputId": "263e256e-a450-4a1e-eb6e-bb87d1ca3ac4"
      },
      "execution_count": null,
      "outputs": [
        {
          "output_type": "execute_result",
          "data": {
            "text/plain": [
              "<matplotlib.axes._subplots.AxesSubplot at 0x7fb67eea1910>"
            ]
          },
          "metadata": {},
          "execution_count": 56
        },
        {
          "output_type": "display_data",
          "data": {
            "image/png": "[encoded data removed]",
            "text/plain": [
              "<Figure size 432x288 with 1 Axes>"
            ]
          },
          "metadata": {
            "needs_background": "light"
          }
        }
      ]
    },
    {
      "cell_type": "code",
      "source": [
        "channel_8=pd.Series(batch[\"pt\"].flatten())\n",
        "channel_8.describe()"
      ],
      "metadata": {
        "colab": {
          "base_uri": "https://localhost:8080/"
        },
        "id": "M73IbsnE1cSH",
        "outputId": "4e69b36a-e871-4dd2-f0fb-f1fe5868e8f9"
      },
      "execution_count": null,
      "outputs": [
        {
          "output_type": "execute_result",
          "data": {
            "text/plain": [
              "count    1024.000000\n",
              "mean        0.515940\n",
              "std         0.280821\n",
              "min         0.005234\n",
              "25%         0.281942\n",
              "50%         0.537477\n",
              "75%         0.753420\n",
              "max         0.998592\n",
              "dtype: float64"
            ]
          },
          "metadata": {},
          "execution_count": 37
        }
      ]
    },
    {
      "cell_type": "code",
      "source": [
        "channel_8.hist(bins=100)"
      ],
      "metadata": {
        "colab": {
          "base_uri": "https://localhost:8080/",
          "height": 282
        },
        "id": "dqew9rLb1iEm",
        "outputId": "3fe9ce55-482e-4ec3-cd75-14865ea43130"
      },
      "execution_count": null,
      "outputs": [
        {
          "output_type": "execute_result",
          "data": {
            "text/plain": [
              "<matplotlib.axes._subplots.AxesSubplot at 0x7fb6e0214290>"
            ]
          },
          "metadata": {},
          "execution_count": 40
        },
        {
          "output_type": "display_data",
          "data": {
            "image/png": "[encoded data removed]",
            "text/plain": [
              "<Figure size 432x288 with 1 Axes>"
            ]
          },
          "metadata": {
            "needs_background": "light"
          }
        }
      ]
    },
    {
      "cell_type": "markdown",
      "metadata": {
        "id": "aoG0IbAGb4CZ"
      },
      "source": [
        "## Track pT"
      ]
    },
    {
      "cell_type": "code",
      "metadata": {
        "colab": {
          "base_uri": "https://localhost:8080/"
        },
        "id": "-AIXVezjb0ex",
        "outputId": "d7351886-235b-4e23-e17a-868cd9ab5ef7"
      },
      "source": [
        "#%matplotlib inline\n",
        "#import matplotlib.pyplot as plt\n",
        "#import pandas as pd\n",
        "channel_1=pd.Series(batch[\"X_jet\"][:,0].flatten())\n",
        "channel_1[(channel_1>0)].describe()"
      ],
      "execution_count": null,
      "outputs": [
        {
          "output_type": "execute_result",
          "data": {
            "text/plain": [
              "count    27807.000000\n",
              "mean         0.162270\n",
              "std          1.106397\n",
              "min          0.010001\n",
              "25%          0.026974\n",
              "50%          0.057733\n",
              "75%          0.143358\n",
              "max        121.294907\n",
              "dtype: float64"
            ]
          },
          "metadata": {},
          "execution_count": 21
        }
      ]
    },
    {
      "cell_type": "code",
      "metadata": {
        "colab": {
          "base_uri": "https://localhost:8080/",
          "height": 282
        },
        "id": "NeLTqWk6ca2n",
        "outputId": "be026230-de43-462d-b782-0b010edc9ba4"
      },
      "source": [
        "#(channel_1[(channel_1>0)]).hist()\n",
        "(channel_1[(channel_1>0) & (channel_1<2)]).hist(bins=100)"
      ],
      "execution_count": null,
      "outputs": [
        {
          "output_type": "execute_result",
          "data": {
            "text/plain": [
              "<matplotlib.axes._subplots.AxesSubplot at 0x7fb6801a3610>"
            ]
          },
          "metadata": {},
          "execution_count": 44
        },
        {
          "output_type": "display_data",
          "data": {
            "image/png": "[encoded data removed]",
            "text/plain": [
              "<Figure size 432x288 with 1 Axes>"
            ]
          },
          "metadata": {
            "needs_background": "light"
          }
        }
      ]
    },
    {
      "cell_type": "code",
      "source": [
        "channel_1.hist(bins=100)"
      ],
      "metadata": {
        "colab": {
          "base_uri": "https://localhost:8080/",
          "height": 293
        },
        "id": "xx3974FVVFoQ",
        "outputId": "6fde0d84-5157-49f5-fbdb-4ed91f2b557f"
      },
      "execution_count": null,
      "outputs": [
        {
          "output_type": "execute_result",
          "data": {
            "text/plain": [
              "<matplotlib.axes._subplots.AxesSubplot at 0x7fb6801ae250>"
            ]
          },
          "metadata": {},
          "execution_count": 45
        },
        {
          "output_type": "display_data",
          "data": {
            "image/png": "[encoded data removed]",
            "text/plain": [
              "<Figure size 432x288 with 1 Axes>"
            ]
          },
          "metadata": {
            "needs_background": "light"
          }
        }
      ]
    },
    {
      "cell_type": "markdown",
      "metadata": {
        "id": "ISnNulcAdd_X"
      },
      "source": [
        "## Track dZ"
      ]
    },
    {
      "cell_type": "code",
      "metadata": {
        "colab": {
          "base_uri": "https://localhost:8080/"
        },
        "id": "NugDUj5qdX-y",
        "outputId": "5d9bd6d5-aec4-4300-bc2e-c5493a5f217d"
      },
      "source": [
        "channel_2=pd.Series(batch[\"X_jet\"][:,1].flatten())\n",
        "channel_2[(channel_2!=0)].describe()"
      ],
      "execution_count": null,
      "outputs": [
        {
          "output_type": "execute_result",
          "data": {
            "text/plain": [
              "count    27168.000000\n",
              "mean        -0.000120\n",
              "std          0.195739\n",
              "min         -0.999835\n",
              "25%         -0.042567\n",
              "50%          0.000165\n",
              "75%          0.042170\n",
              "max          0.998489\n",
              "dtype: float64"
            ]
          },
          "metadata": {},
          "execution_count": 24
        }
      ]
    },
    {
      "cell_type": "code",
      "metadata": {
        "colab": {
          "base_uri": "https://localhost:8080/",
          "height": 282
        },
        "id": "K-SnDPhndnwz",
        "outputId": "e0e4e7bc-ee35-4f6b-9476-281107325dcd"
      },
      "source": [
        "(channel_2[(channel_2!=0)]).hist(bins=100)\n",
        "#(channel_2[(channel_2>0) & (channel_2<50)]).hist()"
      ],
      "execution_count": null,
      "outputs": [
        {
          "output_type": "execute_result",
          "data": {
            "text/plain": [
              "<matplotlib.axes._subplots.AxesSubplot at 0x7fb6825ff950>"
            ]
          },
          "metadata": {},
          "execution_count": 46
        },
        {
          "output_type": "display_data",
          "data": {
            "image/png": "[encoded data removed]",
            "text/plain": [
              "<Figure size 432x288 with 1 Axes>"
            ]
          },
          "metadata": {
            "needs_background": "light"
          }
        }
      ]
    },
    {
      "cell_type": "code",
      "source": [
        "channel_2.hist(bins=100)"
      ],
      "metadata": {
        "colab": {
          "base_uri": "https://localhost:8080/",
          "height": 293
        },
        "id": "Nlaqvq6fVAnB",
        "outputId": "1ec48aca-d033-443c-d39f-8a477e672aa0"
      },
      "execution_count": null,
      "outputs": [
        {
          "output_type": "execute_result",
          "data": {
            "text/plain": [
              "<matplotlib.axes._subplots.AxesSubplot at 0x7fb67fd38c90>"
            ]
          },
          "metadata": {},
          "execution_count": 47
        },
        {
          "output_type": "display_data",
          "data": {
            "image/png": "[encoded data removed]",
            "text/plain": [
              "<Figure size 432x288 with 1 Axes>"
            ]
          },
          "metadata": {
            "needs_background": "light"
          }
        }
      ]
    },
    {
      "cell_type": "markdown",
      "metadata": {
        "id": "e4bPBWZWdzbv"
      },
      "source": [
        "## Track d0"
      ]
    },
    {
      "cell_type": "code",
      "metadata": {
        "colab": {
          "base_uri": "https://localhost:8080/"
        },
        "id": "rAVp8AFtd2ZX",
        "outputId": "9979fc17-2ab3-477c-b1ad-eec99151f012"
      },
      "source": [
        "channel_3=pd.Series(batch[\"X_jet\"][:,2].flatten())\n",
        "channel_3[(channel_3!=0) ].describe()"
      ],
      "execution_count": null,
      "outputs": [
        {
          "output_type": "execute_result",
          "data": {
            "text/plain": [
              "count    22864.000000\n",
              "mean         0.002199\n",
              "std          0.238511\n",
              "min         -0.999858\n",
              "25%         -0.070549\n",
              "50%          0.002220\n",
              "75%          0.073540\n",
              "max          0.999901\n",
              "dtype: float64"
            ]
          },
          "metadata": {},
          "execution_count": 27
        }
      ]
    },
    {
      "cell_type": "code",
      "metadata": {
        "colab": {
          "base_uri": "https://localhost:8080/",
          "height": 282
        },
        "id": "Nfi0veoid6Tq",
        "outputId": "be713f65-96d5-4191-cd70-533faa4c48ad"
      },
      "source": [
        "#channel_3.hist()\n",
        "(channel_3[(channel_3!=0)] ).hist(bins=100)"
      ],
      "execution_count": null,
      "outputs": [
        {
          "output_type": "execute_result",
          "data": {
            "text/plain": [
              "<matplotlib.axes._subplots.AxesSubplot at 0x7fb67fb5f2d0>"
            ]
          },
          "metadata": {},
          "execution_count": 48
        },
        {
          "output_type": "display_data",
          "data": {
            "image/png": "[encoded data removed]",
            "text/plain": [
              "<Figure size 432x288 with 1 Axes>"
            ]
          },
          "metadata": {
            "needs_background": "light"
          }
        }
      ]
    },
    {
      "cell_type": "code",
      "source": [
        "channel_3.hist(bins=100)"
      ],
      "metadata": {
        "colab": {
          "base_uri": "https://localhost:8080/",
          "height": 293
        },
        "id": "VYBa0bAyU8ZI",
        "outputId": "243d57cb-45be-4d14-e6b2-81ea539106d1"
      },
      "execution_count": null,
      "outputs": [
        {
          "output_type": "execute_result",
          "data": {
            "text/plain": [
              "<matplotlib.axes._subplots.AxesSubplot at 0x7fb67f983410>"
            ]
          },
          "metadata": {},
          "execution_count": 49
        },
        {
          "output_type": "display_data",
          "data": {
            "image/png": "[encoded data removed]",
            "text/plain": [
              "<Figure size 432x288 with 1 Axes>"
            ]
          },
          "metadata": {
            "needs_background": "light"
          }
        }
      ]
    },
    {
      "cell_type": "markdown",
      "metadata": {
        "id": "ATaPVd_mfNfq"
      },
      "source": [
        "## ECAL"
      ]
    },
    {
      "cell_type": "code",
      "metadata": {
        "colab": {
          "base_uri": "https://localhost:8080/"
        },
        "id": "0N_Sbv1tfUQF",
        "outputId": "25453f76-95f6-405e-9fb6-4454e71a6f1a"
      },
      "source": [
        "channel_4=pd.Series(batch[\"X_jet\"][:,3].flatten())\n",
        "channel_4[(channel_4>0)].describe()"
      ],
      "execution_count": null,
      "outputs": [
        {
          "output_type": "execute_result",
          "data": {
            "text/plain": [
              "count    277372.000000\n",
              "mean          0.141358\n",
              "std           0.678102\n",
              "min           0.010000\n",
              "25%           0.014596\n",
              "50%           0.025862\n",
              "75%           0.068984\n",
              "max          61.189526\n",
              "dtype: float64"
            ]
          },
          "metadata": {},
          "execution_count": 30
        }
      ]
    },
    {
      "cell_type": "code",
      "metadata": {
        "colab": {
          "base_uri": "https://localhost:8080/",
          "height": 282
        },
        "id": "H6JSRDLCfhNJ",
        "outputId": "382a5ffb-07b7-4b6e-acd0-8995e628f7ed"
      },
      "source": [
        "(channel_4[(channel_4>0) & (channel_4<1)]).hist(bins=100)"
      ],
      "execution_count": null,
      "outputs": [
        {
          "output_type": "execute_result",
          "data": {
            "text/plain": [
              "<matplotlib.axes._subplots.AxesSubplot at 0x7fb67f81f290>"
            ]
          },
          "metadata": {},
          "execution_count": 50
        },
        {
          "output_type": "display_data",
          "data": {
            "image/png": "[encoded data removed]",
            "text/plain": [
              "<Figure size 432x288 with 1 Axes>"
            ]
          },
          "metadata": {
            "needs_background": "light"
          }
        }
      ]
    },
    {
      "cell_type": "code",
      "source": [
        "channel_4.hist(bins=100)"
      ],
      "metadata": {
        "colab": {
          "base_uri": "https://localhost:8080/",
          "height": 293
        },
        "id": "blW0SWpJrUpJ",
        "outputId": "1a5fc6c6-e719-47e5-830f-6bfec1bbe186"
      },
      "execution_count": null,
      "outputs": [
        {
          "output_type": "execute_result",
          "data": {
            "text/plain": [
              "<matplotlib.axes._subplots.AxesSubplot at 0x7fb67f665ad0>"
            ]
          },
          "metadata": {},
          "execution_count": 51
        },
        {
          "output_type": "display_data",
          "data": {
            "image/png": "[encoded data removed]",
            "text/plain": [
              "<Figure size 432x288 with 1 Axes>"
            ]
          },
          "metadata": {
            "needs_background": "light"
          }
        }
      ]
    },
    {
      "cell_type": "markdown",
      "metadata": {
        "id": "BsLcGnJCfNoW"
      },
      "source": [
        "## HCAL"
      ]
    },
    {
      "cell_type": "code",
      "metadata": {
        "colab": {
          "base_uri": "https://localhost:8080/"
        },
        "id": "_CCqc54dgDFk",
        "outputId": "16feaf08-9c11-4a6b-cec4-bc535b17297f"
      },
      "source": [
        "channel_5=pd.Series(batch[\"X_jet\"][:,4].flatten())\n",
        "channel_5[(channel_5>0)].describe()"
      ],
      "execution_count": null,
      "outputs": [
        {
          "output_type": "execute_result",
          "data": {
            "text/plain": [
              "count    719425.000000\n",
              "mean          0.485996\n",
              "std           1.189538\n",
              "min           0.010013\n",
              "25%           0.068336\n",
              "50%           0.130717\n",
              "75%           0.338480\n",
              "max          21.201221\n",
              "dtype: float64"
            ]
          },
          "metadata": {},
          "execution_count": 33
        }
      ]
    },
    {
      "cell_type": "code",
      "metadata": {
        "colab": {
          "base_uri": "https://localhost:8080/",
          "height": 282
        },
        "id": "6w5dXEnhhDvf",
        "outputId": "f084b3ec-8e01-4cef-c5df-956b1ec33b3c"
      },
      "source": [
        "(channel_5[(channel_5>0) & (channel_5<2)]).hist(bins=100)"
      ],
      "execution_count": null,
      "outputs": [
        {
          "output_type": "execute_result",
          "data": {
            "text/plain": [
              "<matplotlib.axes._subplots.AxesSubplot at 0x7fb67f4a0890>"
            ]
          },
          "metadata": {},
          "execution_count": 52
        },
        {
          "output_type": "display_data",
          "data": {
            "image/png": "[encoded data removed]",
            "text/plain": [
              "<Figure size 432x288 with 1 Axes>"
            ]
          },
          "metadata": {
            "needs_background": "light"
          }
        }
      ]
    },
    {
      "cell_type": "code",
      "source": [
        "channel_5.hist(bins=100)"
      ],
      "metadata": {
        "colab": {
          "base_uri": "https://localhost:8080/",
          "height": 293
        },
        "id": "0AcO7r-kUct8",
        "outputId": "01d9352c-1e4b-459d-813d-d6bba4a268a9"
      },
      "execution_count": null,
      "outputs": [
        {
          "output_type": "execute_result",
          "data": {
            "text/plain": [
              "<matplotlib.axes._subplots.AxesSubplot at 0x7fb67f491590>"
            ]
          },
          "metadata": {},
          "execution_count": 53
        },
        {
          "output_type": "display_data",
          "data": {
            "image/png": "[encoded data removed]",
            "text/plain": [
              "<Figure size 432x288 with 1 Axes>"
            ]
          },
          "metadata": {
            "needs_background": "light"
          }
        }
      ]
    },
    {
      "cell_type": "code",
      "metadata": {
        "colab": {
          "base_uri": "https://localhost:8080/",
          "height": 320
        },
        "id": "vhv2kapCZ6Yk",
        "outputId": "c41c28bd-d4e0-450e-9567-69ca1fc814a7"
      },
      "source": [
        "# MAIN #\n",
        "\n",
        "if load_epoch != 0:\n",
        "    epoch_string = 'drive/MyDrive/Colab/MODELS/HToTauTau_m2p0To14_pT30To120_ctau0To3_eta0To1p4_noPix_PTscale0_ECALscale0_HCALscale0_AOD_m0o14.0_ResNet_blocks3_seedPos_MAEloss_epochs10_from0_ntrain342272_nval128000_run0/model_epoch%d'%(load_epoch)\n",
        "    for model_name in glob.glob('%s*pkl'%(epoch_string)):\n",
        "        print(model_name)\n",
        "        #model_name = 'drive/MyDrive/Colab/MODELS/%s/model_epoch%d.pkl'%(model_directory, load_epoch)\n",
        "        logger('Loading weights from %s'%model_name)\n",
        "        checkpoint = torch.load(model_name)\n",
        "        resnet.load_state_dict(checkpoint['model_state_dict'])\n",
        "        optimizer.load_state_dict(checkpoint['optimizer_state_dict'])\n",
        "        epoch = load_epoch\n",
        "        #resnet.load_state_dict(checkpoint['model_state_dict'])\n",
        "        #optimizer.load_state_dict(checkpoint['optimizer_state_dict'])\n",
        "        #epoch = checkpoint['epoch']\n",
        "        #loss = checkpoint['loss']\n",
        "        #resnet.load_weights(model_name)\n",
        "\n",
        "print_step = 100\n",
        "#print_step = 10000\n",
        "mae_best = 1.\n",
        "logger(\">> Training <<<<<<<<\")\n",
        "for e in range(epochs):\n",
        "\n",
        "    epoch = e+1+load_epoch\n",
        "    epoch_wgt = 0.\n",
        "    n_trained = 0\n",
        "    logger('>> Epoch %d <<<<<<<<'%(epoch))\n",
        "\n",
        "    # Run training\n",
        "    #lr_scheduler.step()\n",
        "    resnet.train()\n",
        "    now = time.time()\n",
        "    for i, data in enumerate(train_loader):\n",
        "        #X, m0, wgts = data['Xtz_aod'].cuda(), data['m'].cuda(), data['w'].cuda()\n",
        "        X, m0 = data['X_jet'].cuda(), data['m'].cuda()\n",
        "        iphi, ieta = data['iphi'].cuda(), data['ieta'].cuda()\n",
        "        optimizer.zero_grad()\n",
        "        #logits = resnet(X)\n",
        "        logits = resnet([X, iphi, ieta])\n",
        "        #loss     = mae_loss_wgtd(logits, m0, wgt=1)\n",
        "        loss     = mae_loss_wgtd(logits, m0)\n",
        "        #loss     = logcosh(logits, m0)\n",
        "        #criterion = torch.nn.SmoothL1Loss()\n",
        "        #loss      = criterion(logits, m0)\n",
        "        #break\n",
        "        loss.backward()\n",
        "        optimizer.step()\n",
        "        epoch_wgt += len(m0) \n",
        "        #epoch_wgt += wgts.sum()\n",
        "        n_trained += 1\n",
        "        if i % print_step == 0:\n",
        "            logits, m0 = inv_transform(logits), inv_transform(m0)\n",
        "            mre = ((logits-m0).abs()/m0).mean()\n",
        "            mae =  (logits-m0).abs().mean()\n",
        "            logger('%d: (%d/%d) m_pred: %s...'%(epoch, i, len(train_loader), str(np.squeeze(logits.tolist()[:5]))))\n",
        "            logger('%d: (%d/%d) m_true: %s...'%(epoch, i, len(train_loader), str(np.squeeze(m0.tolist()[:5]))))\n",
        "            logger('%d: (%d/%d) Train loss:%f, mae:%f, mre:%f'%(epoch, i, len(train_loader), loss.item(), mae.item(), mre.item() ))\n",
        "\n",
        "    now = time.time() - now\n",
        "    logits, m0 = inv_transform(logits), inv_transform(m0)\n",
        "    mae =  (logits-m0).abs().mean()\n",
        "    mre = ((logits-m0).abs()/m0).mean()\n",
        "    logger('%d: Train time:%.2fs in %d steps for N:%d, wgt: %.f'%(epoch, now, len(train_loader), n_trained, epoch_wgt))\n",
        "    logger('%d: Train loss:%f, mae:%f, mre:%f'%(epoch, loss.item(), mae.item(), mre.item() ))\n",
        "\n",
        "    # Run Validation\n",
        "    resnet.eval()\n",
        "    _ = do_eval(resnet, val_loader, mae_best, epoch, 'val_pseudoscalar')\n",
        "    #_ = do_eval(resnet, val_loader, mae_best, epoch, 'val_tau', 0)\n",
        "\n",
        "    #_ = do_eval(resnet, sg_loader, mae_best, epoch, 'test_pseudoscalar_M3.6To4', 1)\n",
        "    #_ = do_eval(resnet, bg_loader, mae_best, epoch, 'test_pseudoscalar_M3.6To15', 1)\n",
        "\n",
        "if run_logger:\n",
        "    f.close()\n"
      ],
      "execution_count": null,
      "outputs": [
        {
          "output_type": "stream",
          "name": "stdout",
          "text": [
            ">> Training <<<<<<<<\n",
            ">> Epoch 1 <<<<<<<<\n"
          ]
        },
        {
          "output_type": "stream",
          "name": "stderr",
          "text": [
            "/usr/local/lib/python3.7/dist-packages/torch/utils/data/dataloader.py:481: UserWarning: This DataLoader will create 4 worker processes in total. Our suggested max number of worker in current system is 2, which is smaller than what this DataLoader is going to create. Please be aware that excessive worker creation might get DataLoader running slow or even freeze, lower the worker number to avoid potential slowness/freeze if necessary.\n",
            "  cpuset_checked))\n"
          ]
        },
        {
          "output_type": "error",
          "ename": "KeyError",
          "evalue": "ignored",
          "traceback": [
            "\u001b[0;31m---------------------------------------------------------------------------\u001b[0m",
            "\u001b[0;31mKeyError\u001b[0m                                  Traceback (most recent call last)",
            "\u001b[0;32m<ipython-input-36-611efbdf20a3>\u001b[0m in \u001b[0;36m<module>\u001b[0;34m()\u001b[0m\n\u001b[1;32m     34\u001b[0m     \u001b[0;32mfor\u001b[0m \u001b[0mi\u001b[0m\u001b[0;34m,\u001b[0m \u001b[0mdata\u001b[0m \u001b[0;32min\u001b[0m \u001b[0menumerate\u001b[0m\u001b[0;34m(\u001b[0m\u001b[0mtrain_loader\u001b[0m\u001b[0;34m)\u001b[0m\u001b[0;34m:\u001b[0m\u001b[0;34m\u001b[0m\u001b[0;34m\u001b[0m\u001b[0m\n\u001b[1;32m     35\u001b[0m         \u001b[0;31m#X, m0, wgts = data['Xtz_aod'].cuda(), data['m'].cuda(), data['w'].cuda()\u001b[0m\u001b[0;34m\u001b[0m\u001b[0;34m\u001b[0m\u001b[0;34m\u001b[0m\u001b[0m\n\u001b[0;32m---> 36\u001b[0;31m         \u001b[0mX\u001b[0m\u001b[0;34m,\u001b[0m \u001b[0mm0\u001b[0m \u001b[0;34m=\u001b[0m \u001b[0mdata\u001b[0m\u001b[0;34m[\u001b[0m\u001b[0;34m'X_jet'\u001b[0m\u001b[0;34m]\u001b[0m\u001b[0;34m.\u001b[0m\u001b[0mcuda\u001b[0m\u001b[0;34m(\u001b[0m\u001b[0;34m)\u001b[0m\u001b[0;34m,\u001b[0m \u001b[0mdata\u001b[0m\u001b[0;34m[\u001b[0m\u001b[0;34m'am'\u001b[0m\u001b[0;34m]\u001b[0m\u001b[0;34m.\u001b[0m\u001b[0mcuda\u001b[0m\u001b[0;34m(\u001b[0m\u001b[0;34m)\u001b[0m\u001b[0;34m\u001b[0m\u001b[0;34m\u001b[0m\u001b[0m\n\u001b[0m\u001b[1;32m     37\u001b[0m         \u001b[0miphi\u001b[0m\u001b[0;34m,\u001b[0m \u001b[0mieta\u001b[0m \u001b[0;34m=\u001b[0m \u001b[0mdata\u001b[0m\u001b[0;34m[\u001b[0m\u001b[0;34m'iphi'\u001b[0m\u001b[0;34m]\u001b[0m\u001b[0;34m.\u001b[0m\u001b[0mcuda\u001b[0m\u001b[0;34m(\u001b[0m\u001b[0;34m)\u001b[0m\u001b[0;34m,\u001b[0m \u001b[0mdata\u001b[0m\u001b[0;34m[\u001b[0m\u001b[0;34m'ieta'\u001b[0m\u001b[0;34m]\u001b[0m\u001b[0;34m.\u001b[0m\u001b[0mcuda\u001b[0m\u001b[0;34m(\u001b[0m\u001b[0;34m)\u001b[0m\u001b[0;34m\u001b[0m\u001b[0;34m\u001b[0m\u001b[0m\n\u001b[1;32m     38\u001b[0m         \u001b[0moptimizer\u001b[0m\u001b[0;34m.\u001b[0m\u001b[0mzero_grad\u001b[0m\u001b[0;34m(\u001b[0m\u001b[0;34m)\u001b[0m\u001b[0;34m\u001b[0m\u001b[0;34m\u001b[0m\u001b[0m\n",
            "\u001b[0;31mKeyError\u001b[0m: 'am'"
          ]
        }
      ]
    },
    {
      "cell_type": "markdown",
      "source": [
        ""
      ],
      "metadata": {
        "id": "UG-EO0hK5RZW"
      }
    },
    {
      "cell_type": "code",
      "metadata": {
        "id": "jpd0aFYMiO4p"
      },
      "source": [
        "ls drive/MyDrive/Colab/MODELS/HToTauTau_m2p0To14_pT30To120_ctau0To3_eta0To1p4_noPix_PTscale0_ECALscale0_HCALscale0_AOD_m0o14.0_ResNet_blocks3_seedPos_MAEloss_epochs10_from0_ntrain342272_nval128000_run0/\n"
      ],
      "execution_count": null,
      "outputs": []
    }
  ]
}